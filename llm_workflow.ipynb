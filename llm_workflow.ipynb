{
 "cells": [
  {
   "cell_type": "code",
   "execution_count": 1,
   "id": "12b01b6c",
   "metadata": {},
   "outputs": [],
   "source": [
    "from langgraph.graph import StateGraph,START,END\n",
    "from typing import TypedDict\n",
    "from langchain_community.llms import Ollama\n"
   ]
  },
  {
   "cell_type": "code",
   "execution_count": 2,
   "id": "c0c17abc",
   "metadata": {},
   "outputs": [],
   "source": [
    "class llmState(TypedDict):\n",
    "    ques_tions:str\n",
    "    answ_er:str"
   ]
  },
  {
   "cell_type": "code",
   "execution_count": 3,
   "id": "8e9760f2",
   "metadata": {},
   "outputs": [
    {
     "name": "stderr",
     "output_type": "stream",
     "text": [
      "C:\\Users\\Ashish\\AppData\\Local\\Temp\\ipykernel_13564\\1197550477.py:1: LangChainDeprecationWarning: The class `Ollama` was deprecated in LangChain 0.3.1 and will be removed in 1.0.0. An updated version of the class exists in the :class:`~langchain-ollama package and should be used instead. To use it run `pip install -U :class:`~langchain-ollama` and import as `from :class:`~langchain_ollama import OllamaLLM``.\n",
      "  model=Ollama(model='llama3')#installed in my system\n"
     ]
    }
   ],
   "source": [
    "model=Ollama(model='llama3')#installed in my system"
   ]
  },
  {
   "cell_type": "code",
   "execution_count": 4,
   "id": "b15821ba",
   "metadata": {},
   "outputs": [],
   "source": [
    "graph=StateGraph(llmState)"
   ]
  },
  {
   "cell_type": "code",
   "execution_count": 5,
   "id": "1c2b8603",
   "metadata": {},
   "outputs": [],
   "source": [
    "def llm_qa(state:llmState)->llmState:\n",
    "    questions=state['ques_tions']\n",
    "    #promt\n",
    "    promt=f\"write answer of given {questions}\"\n",
    "    result=model.invoke(promt)\n",
    "    state['answ_er']=result\n",
    "    return state"
   ]
  },
  {
   "cell_type": "code",
   "execution_count": 6,
   "id": "07a4f562",
   "metadata": {},
   "outputs": [
    {
     "data": {
      "text/plain": [
       "<langgraph.graph.state.StateGraph at 0x239a6423580>"
      ]
     },
     "execution_count": 6,
     "metadata": {},
     "output_type": "execute_result"
    }
   ],
   "source": [
    "graph.add_node(\"llm_qa\",llm_qa)\n",
    "graph.add_edge(START,\"llm_qa\")\n",
    "graph.add_edge(\"llm_qa\",END)"
   ]
  },
  {
   "cell_type": "code",
   "execution_count": 7,
   "id": "70693c7a",
   "metadata": {},
   "outputs": [],
   "source": [
    "llm_workflow=graph.compile()"
   ]
  },
  {
   "cell_type": "code",
   "execution_count": null,
   "id": "9d6c59e1",
   "metadata": {},
   "outputs": [
    {
     "name": "stdout",
     "output_type": "stream",
     "text": [
      "{'ques_tions': 'how far is Earth from the Sun?', 'answ_er': \"The average distance from the Earth to the Sun is approximately **93 million miles** (149.6 million kilometers). This distance is constantly changing due to the elliptical shape of Earth's orbit around the Sun, but on average, it remains at about 93 million miles.\\n\\nTo be more precise, the closest point in this orbit is called perihelion, which occurs around early January when the distance is approximately **91.5 million miles** (147 million kilometers). The farthest point is called aphelion, which occurs around early July when the distance is approximately **94.5 million miles** (152.1 million kilometers).\\n\\nSo, there you have it!\"}\n"
     ]
    }
   ],
   "source": [
    "output = llm_workflow.invoke({\"ques_tions\": \"how far is Earth from the Sun?\"})\n",
    "print(output['answ_er'])"
   ]
  },
  {
   "cell_type": "code",
   "execution_count": 10,
   "id": "9e5bd8e2",
   "metadata": {},
   "outputs": [
    {
     "name": "stdout",
     "output_type": "stream",
     "text": [
      "The average distance from the Earth to the Sun is approximately **93 million miles** (149.6 million kilometers). This distance is constantly changing due to the elliptical shape of Earth's orbit around the Sun, but on average, it remains at about 93 million miles.\n",
      "\n",
      "To be more precise, the closest point in this orbit is called perihelion, which occurs around early January when the distance is approximately **91.5 million miles** (147 million kilometers). The farthest point is called aphelion, which occurs around early July when the distance is approximately **94.5 million miles** (152.1 million kilometers).\n",
      "\n",
      "So, there you have it!\n"
     ]
    }
   ],
   "source": [
    "#llm_workflow.invoke({\"ques_tions\":\"how far earth is from sun?\"})\n",
    "print(output['answ_er'])"
   ]
  },
  {
   "cell_type": "code",
   "execution_count": null,
   "id": "e9af9f2a",
   "metadata": {},
   "outputs": [],
   "source": []
  }
 ],
 "metadata": {
  "kernelspec": {
   "display_name": "env",
   "language": "python",
   "name": "python3"
  },
  "language_info": {
   "codemirror_mode": {
    "name": "ipython",
    "version": 3
   },
   "file_extension": ".py",
   "mimetype": "text/x-python",
   "name": "python",
   "nbconvert_exporter": "python",
   "pygments_lexer": "ipython3",
   "version": "3.10.9"
  }
 },
 "nbformat": 4,
 "nbformat_minor": 5
}
