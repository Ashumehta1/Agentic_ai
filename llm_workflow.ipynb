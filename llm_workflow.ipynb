{
 "cells": [
  {
   "cell_type": "code",
   "execution_count": 5,
   "id": "12b01b6c",
   "metadata": {},
   "outputs": [],
   "source": [
    "from langgraph.graph import StateGraph,START,END\n",
    "from typing import TypedDict\n",
    "from langchain_community.llms import Ollama\n"
   ]
  },
  {
   "cell_type": "code",
   "execution_count": 6,
   "id": "c0c17abc",
   "metadata": {},
   "outputs": [],
   "source": [
    "class llmState(StateGraph):\n",
    "    ques_tions:str\n",
    "    answ_er:str"
   ]
  },
  {
   "cell_type": "code",
   "execution_count": 7,
   "id": "8e9760f2",
   "metadata": {},
   "outputs": [
    {
     "name": "stderr",
     "output_type": "stream",
     "text": [
      "C:\\Users\\Ashish\\AppData\\Local\\Temp\\ipykernel_2036\\1940917945.py:1: LangChainDeprecationWarning: The class `Ollama` was deprecated in LangChain 0.3.1 and will be removed in 1.0.0. An updated version of the class exists in the :class:`~langchain-ollama package and should be used instead. To use it run `pip install -U :class:`~langchain-ollama` and import as `from :class:`~langchain_ollama import OllamaLLM``.\n",
      "  model=Ollama(model='llam2')\n"
     ]
    }
   ],
   "source": [
    "model=Ollama(model='llam2')"
   ]
  },
  {
   "cell_type": "code",
   "execution_count": 8,
   "id": "b15821ba",
   "metadata": {},
   "outputs": [],
   "source": [
    "graph=StateGraph(llmState)"
   ]
  },
  {
   "cell_type": "code",
   "execution_count": null,
   "id": "1c2b8603",
   "metadata": {},
   "outputs": [],
   "source": [
    "def llm_qa(state:llmState)->llmState:\n",
    "    questions=state['ques_tions']\n",
    "    #promt\n",
    "    promt=f\"write answer of given {questions}\"\n",
    "    result=model.invoke(promt)\n",
    "    state['answ_er']=result\n",
    "    return state"
   ]
  },
  {
   "cell_type": "code",
   "execution_count": null,
   "id": "07a4f562",
   "metadata": {},
   "outputs": [],
   "source": [
    "graph.add_node(\"llm_qa\",llm_qa)"
   ]
  }
 ],
 "metadata": {
  "kernelspec": {
   "display_name": "env",
   "language": "python",
   "name": "python3"
  },
  "language_info": {
   "codemirror_mode": {
    "name": "ipython",
    "version": 3
   },
   "file_extension": ".py",
   "mimetype": "text/x-python",
   "name": "python",
   "nbconvert_exporter": "python",
   "pygments_lexer": "ipython3",
   "version": "3.10.9"
  }
 },
 "nbformat": 4,
 "nbformat_minor": 5
}
