{
 "cells": [
  {
   "cell_type": "code",
   "execution_count": 3,
   "id": "b092808e",
   "metadata": {},
   "outputs": [],
   "source": [
    "from langgraph.graph import StateGraph\n",
    "from typing import TypedDict"
   ]
  },
  {
   "cell_type": "code",
   "execution_count": 4,
   "id": "8b9b2d9e",
   "metadata": {},
   "outputs": [],
   "source": [
    "# define state\n",
    "class BMIState(TypedDict):\n",
    "    weight_kg:float\n",
    "    height_m:float\n",
    "    bmi:float"
   ]
  },
  {
   "cell_type": "code",
   "execution_count": 5,
   "id": "376391f3",
   "metadata": {},
   "outputs": [],
   "source": [
    "# define graph\n",
    "graph=StateGraph(BMIState)"
   ]
  },
  {
   "cell_type": "code",
   "execution_count": 6,
   "id": "d448003f",
   "metadata": {},
   "outputs": [],
   "source": [
    "# function to calculate bmi\n",
    "def calculate_bmi(state:BMIState)->BMIState:\n",
    "    weight = state['weight_kg']\n",
    "    height = state['height_m']\n",
    "    bmi = (weight/height**2)\n",
    "    state['bmi']=round(bmi,2)\n",
    "    return state"
   ]
  },
  {
   "cell_type": "code",
   "execution_count": 7,
   "id": "03529932",
   "metadata": {},
   "outputs": [
    {
     "data": {
      "text/plain": [
       "<langgraph.graph.state.StateGraph at 0x2ae1543bf40>"
      ]
     },
     "execution_count": 7,
     "metadata": {},
     "output_type": "execute_result"
    }
   ],
   "source": [
    "#add node\n",
    "graph.add_node(\"calculatr_bmi\",calculate_bmi)"
   ]
  },
  {
   "cell_type": "code",
   "execution_count": null,
   "id": "f494b83c",
   "metadata": {},
   "outputs": [],
   "source": []
  }
 ],
 "metadata": {
  "kernelspec": {
   "display_name": "env",
   "language": "python",
   "name": "python3"
  },
  "language_info": {
   "codemirror_mode": {
    "name": "ipython",
    "version": 3
   },
   "file_extension": ".py",
   "mimetype": "text/x-python",
   "name": "python",
   "nbconvert_exporter": "python",
   "pygments_lexer": "ipython3",
   "version": "3.10.9"
  }
 },
 "nbformat": 4,
 "nbformat_minor": 5
}
