{
 "cells": [
  {
   "cell_type": "code",
   "execution_count": 1,
   "id": "30d9e90f",
   "metadata": {},
   "outputs": [],
   "source": [
    "from langgraph.graph import StateGraph, START,END\n",
    "from typing import TypedDict\n",
    "from langchain_community.llms import ollama\n",
    "from langchain_community.chat_models import ChatOllama\n",
    "from langchain_core.output_parsers import PydanticOutputParser\n",
    "from langchain_core.prompts import PromptTemplate\n",
    "from langchain.chains import LLMChain\n",
    "from pydantic import BaseModel, Field\n"
   ]
  },
  {
   "cell_type": "markdown",
   "id": "46ea155a",
   "metadata": {},
   "source": [
    "# define state "
   ]
  },
  {
   "cell_type": "code",
   "execution_count": 3,
   "id": "b0318b6d",
   "metadata": {},
   "outputs": [],
   "source": [
    "class structurestate(BaseModel):\n",
    "    essay:str =Field(description='It will be text.')\n",
    "    feedback:str =Field(description='summary of essay in text.')\n",
    "    score:int =Field(description='score out of 100',ge=0,le=100)\n"
   ]
  },
  {
   "cell_type": "markdown",
   "id": "86ed7e13",
   "metadata": {},
   "source": [
    "# define graph"
   ]
  },
  {
   "cell_type": "code",
   "execution_count": 4,
   "id": "b92424b0",
   "metadata": {},
   "outputs": [],
   "source": [
    "graph=StateGraph(structurestate)"
   ]
  },
  {
   "cell_type": "code",
   "execution_count": 2,
   "id": "503195f2",
   "metadata": {},
   "outputs": [
    {
     "name": "stderr",
     "output_type": "stream",
     "text": [
      "C:\\Users\\Ashish\\AppData\\Local\\Temp\\ipykernel_19184\\2969955315.py:1: LangChainDeprecationWarning: The class `ChatOllama` was deprecated in LangChain 0.3.1 and will be removed in 1.0.0. An updated version of the class exists in the :class:`~langchain-ollama package and should be used instead. To use it run `pip install -U :class:`~langchain-ollama` and import as `from :class:`~langchain_ollama import ChatOllama``.\n",
      "  llm_model=ChatOllama(model='llama3')\n"
     ]
    }
   ],
   "source": [
    "llm_model=ChatOllama(model='llama3')"
   ]
  },
  {
   "cell_type": "code",
   "execution_count": 16,
   "id": "dbe15056",
   "metadata": {},
   "outputs": [],
   "source": [
    "def read_essay(state:structurestate)->structurestate:\n",
    "    with open(\"essay.txt\",\"r\",encoding=\"utf-8\") as f:\n",
    "        essay_test=f.read()\n",
    "    #state['essay']=essay_test# if state Dict\n",
    "    state.essay=essay_test\n",
    "    return state"
   ]
  },
  {
   "cell_type": "code",
   "execution_count": 8,
   "id": "3e94cbfb",
   "metadata": {},
   "outputs": [],
   "source": [
    "def SummariseWithLLM(state:structurestate)->structurestate:\n",
    "    pass"
   ]
  },
  {
   "cell_type": "code",
   "execution_count": null,
   "id": "4a671a8a",
   "metadata": {},
   "outputs": [],
   "source": []
  },
  {
   "cell_type": "markdown",
   "id": "7af2a337",
   "metadata": {},
   "source": [
    "# define node"
   ]
  },
  {
   "cell_type": "code",
   "execution_count": 9,
   "id": "8da95e8a",
   "metadata": {},
   "outputs": [
    {
     "data": {
      "text/plain": [
       "<langgraph.graph.state.StateGraph at 0x1d3c959b5e0>"
      ]
     },
     "execution_count": 9,
     "metadata": {},
     "output_type": "execute_result"
    }
   ],
   "source": [
    "graph.add_node(\"read_essay\",read_essay)\n",
    "graph.add_node(\"SummariseWithLLM\",SummariseWithLLM)"
   ]
  },
  {
   "cell_type": "code",
   "execution_count": 10,
   "id": "ed4f6593",
   "metadata": {},
   "outputs": [
    {
     "data": {
      "text/plain": [
       "<langgraph.graph.state.StateGraph at 0x1d3c959b5e0>"
      ]
     },
     "execution_count": 10,
     "metadata": {},
     "output_type": "execute_result"
    }
   ],
   "source": [
    "graph.add_edge(START,'read_essay')\n",
    "graph.add_edge('read_essay','SummariseWithLLM')\n",
    "graph.add_edge('SummariseWithLLM',END)"
   ]
  },
  {
   "cell_type": "code",
   "execution_count": 11,
   "id": "11a7c958",
   "metadata": {},
   "outputs": [],
   "source": [
    "Workflow=graph.compile()"
   ]
  },
  {
   "cell_type": "code",
   "execution_count": 12,
   "id": "a02cface",
   "metadata": {},
   "outputs": [
    {
     "data": {
      "image/png": "[encoded data removed]",
      "text/plain": [
       "<langgraph.graph.state.CompiledStateGraph object at 0x000001D3CAB633A0>"
      ]
     },
     "execution_count": 12,
     "metadata": {},
     "output_type": "execute_result"
    }
   ],
   "source": [
    "Workflow"
   ]
  },
  {
   "cell_type": "code",
   "execution_count": null,
   "id": "dc090ab1",
   "metadata": {},
   "outputs": [],
   "source": []
  }
 ],
 "metadata": {
  "kernelspec": {
   "display_name": "env",
   "language": "python",
   "name": "python3"
  },
  "language_info": {
   "codemirror_mode": {
    "name": "ipython",
    "version": 3
   },
   "file_extension": ".py",
   "mimetype": "text/x-python",
   "name": "python",
   "nbconvert_exporter": "python",
   "pygments_lexer": "ipython3",
   "version": "3.10.9"
  }
 },
 "nbformat": 4,
 "nbformat_minor": 5
}
