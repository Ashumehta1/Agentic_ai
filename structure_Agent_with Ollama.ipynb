{
 "cells": [
  {
   "cell_type": "code",
   "execution_count": 1,
   "id": "30d9e90f",
   "metadata": {},
   "outputs": [],
   "source": [
    "from langgraph.graph import StateGraph, START,END\n",
    "from typing import TypedDict\n",
    "from langchain_community.llms import ollama\n",
    "from langchain_community.chat_models import ChatOllama\n",
    "from langchain_core.output_parsers import PydanticOutputParser\n",
    "from langchain_core.prompts import PromptTemplate\n",
    "from langchain.chains import LLMChain\n",
    "from pydantic import BaseModel, Field\n"
   ]
  },
  {
   "cell_type": "markdown",
   "id": "46ea155a",
   "metadata": {},
   "source": [
    "# define state "
   ]
  },
  {
   "cell_type": "code",
   "execution_count": 3,
   "id": "b0318b6d",
   "metadata": {},
   "outputs": [],
   "source": [
    "class structurestate(BaseModel):\n",
    "    essay:str =Field(description='It will be text.')\n",
    "    feedback:str =Field(description='summary of essay in text.')\n",
    "    score:int =Field(description='score out of 100',ge=0,le=100)\n"
   ]
  },
  {
   "cell_type": "markdown",
   "id": "86ed7e13",
   "metadata": {},
   "source": [
    "# define graph"
   ]
  },
  {
   "cell_type": "code",
   "execution_count": 4,
   "id": "b92424b0",
   "metadata": {},
   "outputs": [],
   "source": [
    "graph=StateGraph(structurestate)"
   ]
  },
  {
   "cell_type": "code",
   "execution_count": 2,
   "id": "503195f2",
   "metadata": {},
   "outputs": [
    {
     "name": "stderr",
     "output_type": "stream",
     "text": [
      "C:\\Users\\Ashish\\AppData\\Local\\Temp\\ipykernel_19184\\2969955315.py:1: LangChainDeprecationWarning: The class `ChatOllama` was deprecated in LangChain 0.3.1 and will be removed in 1.0.0. An updated version of the class exists in the :class:`~langchain-ollama package and should be used instead. To use it run `pip install -U :class:`~langchain-ollama` and import as `from :class:`~langchain_ollama import ChatOllama``.\n",
      "  llm_model=ChatOllama(model='llama3')\n"
     ]
    }
   ],
   "source": [
    "llm_model=ChatOllama(model='llama3')"
   ]
  },
  {
   "cell_type": "markdown",
   "id": "7af2a337",
   "metadata": {},
   "source": [
    "# define node"
   ]
  },
  {
   "cell_type": "code",
   "execution_count": null,
   "id": "8da95e8a",
   "metadata": {},
   "outputs": [],
   "source": []
  }
 ],
 "metadata": {
  "kernelspec": {
   "display_name": "env",
   "language": "python",
   "name": "python3"
  },
  "language_info": {
   "codemirror_mode": {
    "name": "ipython",
    "version": 3
   },
   "file_extension": ".py",
   "mimetype": "text/x-python",
   "name": "python",
   "nbconvert_exporter": "python",
   "pygments_lexer": "ipython3",
   "version": "3.10.9"
  }
 },
 "nbformat": 4,
 "nbformat_minor": 5
}
