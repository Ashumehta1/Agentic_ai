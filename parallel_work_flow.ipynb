{
 "cells": [
  {
   "cell_type": "markdown",
   "id": "26948690",
   "metadata": {},
   "source": [
    "# Cricket workflow"
   ]
  },
  {
   "cell_type": "code",
   "execution_count": 1,
   "id": "16ac229c",
   "metadata": {},
   "outputs": [],
   "source": [
    "from langgraph.graph import StateGraph\n",
    "from typing import TypedDict"
   ]
  },
  {
   "cell_type": "code",
   "execution_count": 2,
   "id": "79bf0783",
   "metadata": {},
   "outputs": [],
   "source": [
    "class cricketstate(TypedDict):\n",
    "    runs: int\n",
    "    balls: int\n",
    "    fours: int\n",
    "    sixes: int\n",
    "\n",
    "    sr: float\n",
    "    boundries_per: float\n",
    "    bpb: float"
   ]
  },
  {
   "cell_type": "code",
   "execution_count": null,
   "id": "d6a49c62",
   "metadata": {},
   "outputs": [],
   "source": []
  }
 ],
 "metadata": {
  "kernelspec": {
   "display_name": "env",
   "language": "python",
   "name": "python3"
  },
  "language_info": {
   "codemirror_mode": {
    "name": "ipython",
    "version": 3
   },
   "file_extension": ".py",
   "mimetype": "text/x-python",
   "name": "python",
   "nbconvert_exporter": "python",
   "pygments_lexer": "ipython3",
   "version": "3.10.9"
  }
 },
 "nbformat": 4,
 "nbformat_minor": 5
}
