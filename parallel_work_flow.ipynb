{
 "cells": [
  {
   "cell_type": "markdown",
   "id": "26948690",
   "metadata": {},
   "source": [
    "# Cricket workflow"
   ]
  }
 ],
 "metadata": {
  "language_info": {
   "name": "python"
  }
 },
 "nbformat": 4,
 "nbformat_minor": 5
}
