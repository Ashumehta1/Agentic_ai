{
 "cells": [
  {
   "cell_type": "code",
   "execution_count": 1,
   "id": "74b4fd67",
   "metadata": {},
   "outputs": [],
   "source": [
    "from langgraph.graph import StateGraph, START, END\n",
    "from langchain_community.llms import Ollama\n",
    "from typing import TypedDict"
   ]
  },
  {
   "cell_type": "code",
   "execution_count": 2,
   "id": "f66f57d5",
   "metadata": {},
   "outputs": [
    {
     "name": "stderr",
     "output_type": "stream",
     "text": [
      "C:\\Users\\Ashish\\AppData\\Local\\Temp\\ipykernel_2016\\3613330992.py:2: LangChainDeprecationWarning: The class `Ollama` was deprecated in LangChain 0.3.1 and will be removed in 1.0.0. An updated version of the class exists in the :class:`~langchain-ollama package and should be used instead. To use it run `pip install -U :class:`~langchain-ollama` and import as `from :class:`~langchain_ollama import OllamaLLM``.\n",
      "  model=Ollama(model=\"llama3\")\n"
     ]
    }
   ],
   "source": [
    "# Ollama llama3 model\n",
    "model=Ollama(model=\"llama3\")"
   ]
  },
  {
   "cell_type": "code",
   "execution_count": 3,
   "id": "538eb252",
   "metadata": {},
   "outputs": [],
   "source": [
    "# create StateGraph\n",
    "class blogstate(TypedDict):\n",
    "    title: str\n",
    "    outline: str\n",
    "    content:str\n",
    "    "
   ]
  },
  {
   "cell_type": "code",
   "execution_count": 4,
   "id": "eb607d7d",
   "metadata": {},
   "outputs": [],
   "source": [
    "#define graph\n",
    "graph=StateGraph(blogstate)"
   ]
  },
  {
   "cell_type": "code",
   "execution_count": 5,
   "id": "4faac83c",
   "metadata": {},
   "outputs": [],
   "source": [
    "# function to create outline\n",
    "def create_title(state:blogstate)->blogstate:\n",
    "    #fetch title\n",
    "    title = state['title']\n",
    "    #promt\n",
    "    promt=f\"create outline for blog from given title {title}\"\n",
    "    #model\n",
    "    outline_result=model.invoke(promt)\n",
    "    # save in stategraph\n",
    "    state['outline']=outline_result\n",
    "    return state\n"
   ]
  },
  {
   "cell_type": "code",
   "execution_count": 6,
   "id": "fcf320e5",
   "metadata": {},
   "outputs": [],
   "source": [
    "# function to create blog\n",
    "def create_content(state:blogstate)->blogstate:\n",
    "    #fetch \n",
    "    title=state['title']\n",
    "    outline=state['outline']\n",
    "    #promt\n",
    "    promt=f\"create blog from given title {title} and outline {outline}\"\n",
    "    #model\n",
    "    blog_result=model.invoke(promt)\n",
    "    #save in state\n",
    "    state['content']=blog_result\n",
    "    return state\n"
   ]
  },
  {
   "cell_type": "code",
   "execution_count": 7,
   "id": "9033f8b9",
   "metadata": {},
   "outputs": [
    {
     "data": {
      "text/plain": [
       "<langgraph.graph.state.StateGraph at 0x25a831d3550>"
      ]
     },
     "execution_count": 7,
     "metadata": {},
     "output_type": "execute_result"
    }
   ],
   "source": [
    "# define node\n",
    "graph.add_node(\"create_title\",create_title)\n",
    "graph.add_node(\"create_content\",create_content)"
   ]
  },
  {
   "cell_type": "code",
   "execution_count": 8,
   "id": "75743f8d",
   "metadata": {},
   "outputs": [
    {
     "data": {
      "text/plain": [
       "<langgraph.graph.state.StateGraph at 0x25a831d3550>"
      ]
     },
     "execution_count": 8,
     "metadata": {},
     "output_type": "execute_result"
    }
   ],
   "source": [
    "#create edge\n",
    "graph.add_edge(START,\"create_title\")\n",
    "graph.add_edge(\"create_title\",\"create_content\")\n",
    "graph.add_edge(\"create_content\",END)"
   ]
  },
  {
   "cell_type": "code",
   "execution_count": 9,
   "id": "d2b45552",
   "metadata": {},
   "outputs": [
    {
     "data": {
      "image/png": "[encoded data removed]",
      "text/plain": [
       "<langgraph.graph.state.CompiledStateGraph object at 0x0000025A831D0C40>"
      ]
     },
     "execution_count": 9,
     "metadata": {},
     "output_type": "execute_result"
    }
   ],
   "source": [
    "graph.compile()"
   ]
  },
  {
   "cell_type": "code",
   "execution_count": 10,
   "id": "1355a758",
   "metadata": {},
   "outputs": [],
   "source": [
    "promt_chain_workflow=graph.compile()"
   ]
  },
  {
   "cell_type": "code",
   "execution_count": 14,
   "id": "8dcfe1b7",
   "metadata": {},
   "outputs": [],
   "source": [
    "output_result=promt_chain_workflow.invoke({'title':'Rise of India.'})"
   ]
  },
  {
   "cell_type": "code",
   "execution_count": 15,
   "id": "7b21f25a",
   "metadata": {},
   "outputs": [
    {
     "name": "stdout",
     "output_type": "stream",
     "text": [
      "{'title': 'Rise of India.', 'outline': 'Here is a suggested outline for a blog on the topic \"Rise of India\":\\n\\n**I. Introduction**\\n\\n* Brief overview of India\\'s growth and transformation in recent years\\n* Thesis statement: India\\'s rise to global prominence is driven by its growing economy, technological advancements, and increasing international influence.\\n\\n**II. Economic Growth**\\n\\n* Overview of India\\'s economic reforms and their impact on GDP growth (e.g. liberalization, privatization)\\n* Statistics on India\\'s economic growth rate (e.g. 7%+ per annum) and its ranking in the world economy\\n* Examples of Indian companies that have made a global impact (e.g. Tata Motors, Infosys)\\n\\n**III. Technological Advancements**\\n\\n* Discussion of India\\'s growing IT sector and its role in driving innovation (e.g. Bangalore, Silicon Valley of India)\\n* Overview of India\\'s space program and its achievements (e.g. Chandrayaan-1, Mangalyaan)\\n* Examples of Indian startups that have gained international attention (e.g. Paytm, Ola)\\n\\n**IV. Increasing International Influence**\\n\\n* Analysis of India\\'s growing diplomatic influence on the global stage (e.g. membership in BRICS, G20)\\n* Discussion of India\\'s role in regional organizations (e.g. SAARC, ASEAN)\\n* Examples of Indian companies that have expanded globally (e.g. Reliance Industries, Hindustan Unilever)\\n\\n**V. Challenges and Opportunities**\\n\\n* Overview of the challenges facing India as it rises to global prominence (e.g. corruption, inequality, infrastructure development)\\n* Discussion of the opportunities for growth and cooperation with other countries (e.g. China, US, EU)\\n\\n**VI. Conclusion**\\n\\n* Recap of India\\'s rise to global prominence\\n* Final thoughts on the implications of India\\'s growth and its potential impact on the world stage.\\n\\nThis is just a suggested outline, and you can modify it to fit your writing style and goals. Good luck with your blog!', 'content': '**Rise of India: A New Era of Growth and Influence**\\n\\nAs the world\\'s second-most populous nation, India has been making rapid strides in various aspects of its economy, technology, and international influence. This blog post will explore the rise of India as a global powerhouse, highlighting its economic growth, technological advancements, increasing international influence, and the challenges and opportunities that come with it.\\n\\n**I. Introduction**\\n\\nIndia\\'s transformation is nothing short of remarkable. Over the past two decades, the country has experienced unprecedented economic growth, driven by liberalization, privatization, and a favorable business environment. This growth has been accompanied by significant technological advancements, innovative startups, and an increasing international influence that is redefining India\\'s place on the global stage.\\n\\n**II. Economic Growth**\\n\\nIndia\\'s economic reforms have been instrumental in driving its GDP growth rate to over 7% per annum. The country\\'s liberalization policies have attracted foreign investment, while privatization has increased competition and efficiency in key sectors such as finance, telecom, and infrastructure. As a result, India has emerged as one of the world\\'s fastest-growing major economies, with companies like Tata Motors (owner of Jaguar Land Rover) and Infosys (a leading IT services provider) making significant contributions to global growth.\\n\\n**III. Technological Advancements**\\n\\nIndia\\'s IT sector is driving innovation and entrepreneurship across the country. Bangalore, often referred to as the \"Silicon Valley of India,\" has become a hub for tech startups and companies like Microsoft, Google, and Amazon have set up major operations there. India\\'s space program has also made significant strides, with achievements like Chandrayaan-1 (India\\'s first lunar mission) and Mangalyaan (India\\'s Mars Orbiter Mission). Indian startups like Paytm (a leading digital payments platform) and Ola (an ride-hailing service) have gained international recognition for their innovative solutions.\\n\\n**IV. Increasing International Influence**\\n\\nIndia\\'s diplomatic influence has grown significantly in recent years, with membership in organizations like BRICS (Brazil, Russia, India, China, and South Africa) and G20 (a grouping of the world\\'s 20 largest economies). The country has also strengthened its regional ties through organizations like SAARC (South Asian Association for Regional Cooperation) and ASEAN (Association of Southeast Asian Nations). Indian companies have expanded their global footprint, with conglomerates like Reliance Industries (owner of Reliance Jio) and Hindustan Unilever (a leading FMCG company) making significant investments in foreign markets.\\n\\n**V. Challenges and Opportunities**\\n\\nAs India rises to global prominence, it faces several challenges that need to be addressed. Corruption, inequality, and infrastructure development are just a few of the hurdles that must be overcome if the country is to realize its full potential. However, these challenges also present opportunities for growth and cooperation with other countries. For instance, China\\'s Belt and Road Initiative (BRI) presents India with an opportunity to strengthen economic ties with its eastern neighbor.\\n\\n**VI. Conclusion**\\n\\nIn conclusion, India\\'s rise to global prominence is a testament to the country\\'s entrepreneurial spirit, technological prowess, and growing international influence. As the world\\'s fastest-growing major economy, India has the potential to make a significant impact on the global stage. While challenges remain, the opportunities for growth and cooperation with other countries are vast.'}\n"
     ]
    }
   ],
   "source": [
    "print(output_result)"
   ]
  },
  {
   "cell_type": "code",
   "execution_count": 20,
   "id": "81941f8c",
   "metadata": {},
   "outputs": [
    {
     "name": "stdout",
     "output_type": "stream",
     "text": [
      "Rise of India.\n"
     ]
    }
   ],
   "source": [
    "print(output_result['title'])"
   ]
  },
  {
   "cell_type": "code",
   "execution_count": 19,
   "id": "7eff3e9c",
   "metadata": {},
   "outputs": [
    {
     "name": "stdout",
     "output_type": "stream",
     "text": [
      "Here is a suggested outline for a blog on the topic \"Rise of India\":\n",
      "\n",
      "**I. Introduction**\n",
      "\n",
      "* Brief overview of India's growth and transformation in recent years\n",
      "* Thesis statement: India's rise to global prominence is driven by its growing economy, technological advancements, and increasing international influence.\n",
      "\n",
      "**II. Economic Growth**\n",
      "\n",
      "* Overview of India's economic reforms and their impact on GDP growth (e.g. liberalization, privatization)\n",
      "* Statistics on India's economic growth rate (e.g. 7%+ per annum) and its ranking in the world economy\n",
      "* Examples of Indian companies that have made a global impact (e.g. Tata Motors, Infosys)\n",
      "\n",
      "**III. Technological Advancements**\n",
      "\n",
      "* Discussion of India's growing IT sector and its role in driving innovation (e.g. Bangalore, Silicon Valley of India)\n",
      "* Overview of India's space program and its achievements (e.g. Chandrayaan-1, Mangalyaan)\n",
      "* Examples of Indian startups that have gained international attention (e.g. Paytm, Ola)\n",
      "\n",
      "**IV. Increasing International Influence**\n",
      "\n",
      "* Analysis of India's growing diplomatic influence on the global stage (e.g. membership in BRICS, G20)\n",
      "* Discussion of India's role in regional organizations (e.g. SAARC, ASEAN)\n",
      "* Examples of Indian companies that have expanded globally (e.g. Reliance Industries, Hindustan Unilever)\n",
      "\n",
      "**V. Challenges and Opportunities**\n",
      "\n",
      "* Overview of the challenges facing India as it rises to global prominence (e.g. corruption, inequality, infrastructure development)\n",
      "* Discussion of the opportunities for growth and cooperation with other countries (e.g. China, US, EU)\n",
      "\n",
      "**VI. Conclusion**\n",
      "\n",
      "* Recap of India's rise to global prominence\n",
      "* Final thoughts on the implications of India's growth and its potential impact on the world stage.\n",
      "\n",
      "This is just a suggested outline, and you can modify it to fit your writing style and goals. Good luck with your blog!\n"
     ]
    }
   ],
   "source": [
    "print(output_result['outline'])"
   ]
  },
  {
   "cell_type": "code",
   "execution_count": 21,
   "id": "375e9642",
   "metadata": {},
   "outputs": [
    {
     "name": "stdout",
     "output_type": "stream",
     "text": [
      "**Rise of India: A New Era of Growth and Influence**\n",
      "\n",
      "As the world's second-most populous nation, India has been making rapid strides in various aspects of its economy, technology, and international influence. This blog post will explore the rise of India as a global powerhouse, highlighting its economic growth, technological advancements, increasing international influence, and the challenges and opportunities that come with it.\n",
      "\n",
      "**I. Introduction**\n",
      "\n",
      "India's transformation is nothing short of remarkable. Over the past two decades, the country has experienced unprecedented economic growth, driven by liberalization, privatization, and a favorable business environment. This growth has been accompanied by significant technological advancements, innovative startups, and an increasing international influence that is redefining India's place on the global stage.\n",
      "\n",
      "**II. Economic Growth**\n",
      "\n",
      "India's economic reforms have been instrumental in driving its GDP growth rate to over 7% per annum. The country's liberalization policies have attracted foreign investment, while privatization has increased competition and efficiency in key sectors such as finance, telecom, and infrastructure. As a result, India has emerged as one of the world's fastest-growing major economies, with companies like Tata Motors (owner of Jaguar Land Rover) and Infosys (a leading IT services provider) making significant contributions to global growth.\n",
      "\n",
      "**III. Technological Advancements**\n",
      "\n",
      "India's IT sector is driving innovation and entrepreneurship across the country. Bangalore, often referred to as the \"Silicon Valley of India,\" has become a hub for tech startups and companies like Microsoft, Google, and Amazon have set up major operations there. India's space program has also made significant strides, with achievements like Chandrayaan-1 (India's first lunar mission) and Mangalyaan (India's Mars Orbiter Mission). Indian startups like Paytm (a leading digital payments platform) and Ola (an ride-hailing service) have gained international recognition for their innovative solutions.\n",
      "\n",
      "**IV. Increasing International Influence**\n",
      "\n",
      "India's diplomatic influence has grown significantly in recent years, with membership in organizations like BRICS (Brazil, Russia, India, China, and South Africa) and G20 (a grouping of the world's 20 largest economies). The country has also strengthened its regional ties through organizations like SAARC (South Asian Association for Regional Cooperation) and ASEAN (Association of Southeast Asian Nations). Indian companies have expanded their global footprint, with conglomerates like Reliance Industries (owner of Reliance Jio) and Hindustan Unilever (a leading FMCG company) making significant investments in foreign markets.\n",
      "\n",
      "**V. Challenges and Opportunities**\n",
      "\n",
      "As India rises to global prominence, it faces several challenges that need to be addressed. Corruption, inequality, and infrastructure development are just a few of the hurdles that must be overcome if the country is to realize its full potential. However, these challenges also present opportunities for growth and cooperation with other countries. For instance, China's Belt and Road Initiative (BRI) presents India with an opportunity to strengthen economic ties with its eastern neighbor.\n",
      "\n",
      "**VI. Conclusion**\n",
      "\n",
      "In conclusion, India's rise to global prominence is a testament to the country's entrepreneurial spirit, technological prowess, and growing international influence. As the world's fastest-growing major economy, India has the potential to make a significant impact on the global stage. While challenges remain, the opportunities for growth and cooperation with other countries are vast.\n"
     ]
    }
   ],
   "source": [
    "print(output_result['content'])"
   ]
  },
  {
   "cell_type": "code",
   "execution_count": null,
   "id": "b2a23b39",
   "metadata": {},
   "outputs": [],
   "source": []
  }
 ],
 "metadata": {
  "kernelspec": {
   "display_name": "env",
   "language": "python",
   "name": "python3"
  },
  "language_info": {
   "codemirror_mode": {
    "name": "ipython",
    "version": 3
   },
   "file_extension": ".py",
   "mimetype": "text/x-python",
   "name": "python",
   "nbconvert_exporter": "python",
   "pygments_lexer": "ipython3",
   "version": "3.10.9"
  }
 },
 "nbformat": 4,
 "nbformat_minor": 5
}
